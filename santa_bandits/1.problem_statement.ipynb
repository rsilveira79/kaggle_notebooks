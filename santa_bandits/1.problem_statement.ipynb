{
 "cells": [
  {
   "cell_type": "markdown",
   "id": "configured-joseph",
   "metadata": {},
   "source": [
    "# Santa Bandits\n",
    "\n",
    "- 2 elves break into room at once\n",
    "- try to get candy canes out of the 100 possible vending machines\n",
    "- each machine unpredicatable how likely to work\n",
    "- the more use a machine, the less likely will give candy\n",
    "- try 2000 times\n",
    "- Each bandit - random reward based on probability distribution of that machine\n",
    "- Every round each player selects \"pulls\" a bandit, the likelihood of a reward decreases by 3%.\n",
    "#### Challenge - win more candies\n",
    "\n",
    "Each submission - estimated skill\n",
    "\n",
    "$$\n",
    "Gaussian N(\\mu,\\sigma_{2})\n",
    "$$\n",
    "\n",
    "Initialize submission with $\\mu_{0}$=600"
   ]
  },
  {
   "cell_type": "markdown",
   "id": "dying-limitation",
   "metadata": {},
   "source": [
    "## Writting Agents\n",
    "- *Receives*:\n",
    "    - observation containing total **_reward_**\n",
    "    - bandits pulled by other players in previous turn **_lastActions_**\n",
    "    - current **_step_** of the competition\n",
    "    - **_remainingOverageTime_**\n",
    "- *Provides* \n",
    "    - index of the bandit to be pulled"
   ]
  },
  {
   "cell_type": "markdown",
   "id": "composite-ladder",
   "metadata": {},
   "source": [
    "## Observation\n",
    "```json\n",
    "\"observation\": {\n",
    "\t\t\"remainingOverageTime\": 60,\n",
    "\t\t\"step\": 4,\n",
    "\t\t\"agentIndex\": 0,\n",
    "\t\t\"reward\": 3,\n",
    "\t\t\"lastActions\": [94,3]\n",
    "\t}\n",
    "```\n",
    "## Configuration\n",
    "```json\n",
    "\"configuration\": {\n",
    "\t\t\"episodeSteps\": 2000,\n",
    "\t\t\"actTimeout\": 0.25,\n",
    "\t\t\"runTimeout\": 1200,\n",
    "\t\t\"banditCount\": 100,\n",
    "\t\t\"decayRate\": 0.97,\n",
    "\t\t\"sampleResolution\": 100\n",
    "\t}\n",
    "```"
   ]
  },
  {
   "cell_type": "markdown",
   "id": "active-employee",
   "metadata": {},
   "source": [
    "\"configuration\": {\n",
    "        \"episodeSteps\": 2000,\n",
    "        \"actTimeout\": 0.25,\n",
    "        \"runTimeout\": 1200,\n",
    "        \"banditCount\": 100,\n",
    "        \"decayRate\": 0.97,\n",
    "        \"sampleResolution\": 100\n",
    "    }"
   ]
  },
  {
   "cell_type": "code",
   "execution_count": 9,
   "id": "suburban-tyler",
   "metadata": {},
   "outputs": [],
   "source": [
    "observation = {\n",
    "        \"remainingOverageTime\": 60,\n",
    "        \"step\": 4,\n",
    "        \"agentIndex\": 0,\n",
    "        \"reward\": 3,\n",
    "        \"lastActions\": [94,3]\n",
    "    }"
   ]
  },
  {
   "cell_type": "code",
   "execution_count": 8,
   "id": "popular-frequency",
   "metadata": {},
   "outputs": [],
   "source": [
    "configuration =  {\n",
    "        \"episodeSteps\": 2000,\n",
    "        \"actTimeout\": 0.25,\n",
    "        \"runTimeout\": 1200,\n",
    "        \"banditCount\": 100,\n",
    "        \"decayRate\": 0.97,\n",
    "        \"sampleResolution\": 100\n",
    "    }"
   ]
  }
 ],
 "metadata": {
  "kernelspec": {
   "display_name": "torch",
   "language": "python",
   "name": "torch"
  },
  "language_info": {
   "codemirror_mode": {
    "name": "ipython",
    "version": 3
   },
   "file_extension": ".py",
   "mimetype": "text/x-python",
   "name": "python",
   "nbconvert_exporter": "python",
   "pygments_lexer": "ipython3",
   "version": "3.7.2"
  }
 },
 "nbformat": 4,
 "nbformat_minor": 5
}
